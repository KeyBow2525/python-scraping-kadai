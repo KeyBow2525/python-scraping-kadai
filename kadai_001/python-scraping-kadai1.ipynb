{
 "cells": [
  {
   "cell_type": "code",
   "execution_count": 2,
   "metadata": {},
   "outputs": [
    {
     "name": "stdout",
     "output_type": "stream",
     "text": [
      "東京株式市場で株価が暴落です。5日の日経平均株価は下げ幅は4400円を超え、過去最大となりました。\n",
      "\n",
      "▼鈴木財務相が記者団にコメント　日経平均、史上最大の下げ幅\n",
      "\n",
      "東京証券取引所から中継です。\n",
      "\n",
      "東京株式市場、歴史的な“暴落”の日となりました。下落に歯止めがかからず、市場関係者も「パニック安だ」と表現しています。\n",
      "\n",
      "5日の日経平均株価は先週末と比べて4451円安の3万1458円で取引を終えました。\n",
      "\n",
      "1987年のブラックマンデー時を超える過去最大の下げ幅になり、日経平均株価は去年10月以来の安値水準となりました。\n",
      "\n",
      "岩井コスモ証券　担当者\n",
      "「ちょっと売られすぎ。パニック売りも入っている」\n",
      "\n",
      "暴落のきっかけはアメリカの景気後退懸念と急速な円高です。先週日銀の利上げなどを受けて進んだ円高に加え、アメリカで発表された雇用統計が市場予想を下回ったことをきっかけにアメリカの景気が後退するとの懸念が強まり、ニューヨーク市場は株価が大きく値を下げました。\n",
      "\n",
      "この流れを受けて、週明けの東京市場も取引開始から全面安の展開となり、急速な円高に引きずられるように売りが売りを呼ぶ「パニック安」の様相となりました。\n",
      "\n",
      "どの市場関係者に聞いても「どこまで下がるか分からない」と答え、まずは市場が落ち着くまで待つしかないと話していまます。\n"
     ]
    }
   ],
   "source": [
    "import requests \n",
    "from bs4 import BeautifulSoup\n",
    "\n",
    "url = 'https://news.yahoo.co.jp/articles/81ac9c6eec163f82c26835d7b6d0756a469bbf43'\n",
    "\n",
    "response = requests.get(url)\n",
    "\n",
    "soup = BeautifulSoup(response.text, 'html.parser')\n",
    "\n",
    "paragraph_elememt = soup.select_one('#uamods > div > div > p')\n",
    "\n",
    "paragraph_text = paragraph_elememt.text\n",
    "\n",
    "print(paragraph_text)"
   ]
  }
 ],
 "metadata": {
  "kernelspec": {
   "display_name": "Python 3",
   "language": "python",
   "name": "python3"
  },
  "language_info": {
   "codemirror_mode": {
    "name": "ipython",
    "version": 3
   },
   "file_extension": ".py",
   "mimetype": "text/x-python",
   "name": "python",
   "nbconvert_exporter": "python",
   "pygments_lexer": "ipython3",
   "version": "3.11.9"
  }
 },
 "nbformat": 4,
 "nbformat_minor": 2
}
